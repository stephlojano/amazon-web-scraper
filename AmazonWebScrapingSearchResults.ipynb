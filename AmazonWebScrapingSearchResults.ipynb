{
 "cells": [
  {
   "cell_type": "code",
   "execution_count": 1,
   "metadata": {},
   "outputs": [],
   "source": [
    "# import libraries\n",
    "\n",
    "from bs4 import BeautifulSoup\n",
    "import requests\n",
    "import csv"
   ]
  },
  {
   "cell_type": "code",
   "execution_count": null,
   "metadata": {},
   "outputs": [],
   "source": [
    "csv_header = ['title', 'price', 'rating', 'no. of reviews', 'product URL', 'brand name', 'special features']\n",
    "\n",
    "with open('results.csv', 'w', newline='', encoding='utf-8') as file:\n",
    "        writer = csv.writer(file)\n",
    "        writer.writerow(csv_header)\n",
    "\n",
    "headers = {\"User-Agent\": \"Mozilla/5.0 (Windows NT 10.0; Win64; x64) AppleWebKit/537.36 (KHTML, like Gecko) Chrome/105.0.0.0 Safari/537.36\",\"Accept-Encoding\": \"gzip, deflate\",\"Accept\": \"text/html,application/xhtml+xml,application/xml;q=0.9,image/avif,image/webp,image/apng,*/*;q=0.8,application/signed-exchange;v=b3;q=0.9\",\"DNT\":\"1\",\"Connection\":\"close\", \"Upgrade-Insecure-Requests\":\"1\"}\n",
    "\n",
    "# searching for...\n",
    "# enter search into quotes ''\n",
    "query = ''\n",
    "\n",
    "# format search\n",
    "search = query.replace(' ', '+')\n",
    "\n",
    "# URL with our search\n",
    "URL = (f'https://www.amazon.com/s?k={search}')\n",
    "\n",
    "for page in range(1,2):\n",
    "    webpage = requests.get(URL + f'&page={page}', headers=headers)\n",
    "\n",
    "    soup_messy = BeautifulSoup(webpage.content, 'html.parser')\n",
    "    soup = BeautifulSoup(soup_messy.prettify(), 'html.parser')\n",
    "\n",
    "    # the elements we need are in this HTML class\n",
    "    results = soup.find_all('div', {'data-component-type':'s-search-result'})\n",
    "\n",
    "    for result in results:\n",
    "        title = result.find('a', {'class': 'a-text-normal'}).get_text().strip()\n",
    "        price = result.find('span', {'class':'a-offscreen'}).get_text().strip()\n",
    "        try:\n",
    "            rating = result.find('span', {'a-icon-alt'}).get_text().strip()\n",
    "            no_reviews = result.find('span', {'class':'a-size-base'}).get_text().strip()\n",
    "        except AttributeError:\n",
    "            continue\n",
    "            \n",
    "        link = result.find('a', {'class': 'a-text-normal'})\n",
    "        product_url = 'https://www.amazon.com' + link.get('href')\n",
    "\n",
    "#         print(title)\n",
    "#         print(price)\n",
    "#         print(rating)\n",
    "#         print(no_reviews)\n",
    "#         print(product_url)\n",
    "    \n",
    "        # webscraping each product's webpage to get brand name \n",
    "        product_webpage = requests.get(product_url, headers=headers)\n",
    "        product_soup = BeautifulSoup(product_webpage.content, 'html.parser')\n",
    "        \n",
    "        product_results = product_soup.find_all('table', {'class':'prodDetTable'})\n",
    "        for pr in product_results:\n",
    "            product_resultss = pr.find_all('tr')\n",
    "            \n",
    "            for product in product_resultss:\n",
    "                thh = product.find_all('th', {'class': 'prodDetSectionEntry'})\n",
    "                for th in thh:\n",
    "                    if th.text.strip() == 'Manufacturer':\n",
    "                        brand_name = product.find('td', {'class': 'prodDetAttrValue'}).text.strip()\n",
    "#                         print(brand_name)\n",
    "                    if th.text.strip() == 'Special Features':\n",
    "                        special_features = product.find('td', {'class': 'prodDetAttrValue'}).text.strip()\n",
    "#                         print(special_features)\n",
    "                        \n",
    "\n",
    "        \n",
    "        csv_data = [title, price, rating, no_reviews, product_url, brand_name, special_features]\n",
    "\n",
    "        with open('results.csv', 'a', newline='',encoding='utf-8') as file:\n",
    "            writer = csv.writer(file)\n",
    "            writer.writerow(csv_data)\n",
    "\n"
   ]
  },
  {
   "cell_type": "code",
   "execution_count": null,
   "metadata": {},
   "outputs": [],
   "source": [
    "# now we're going to read from the .csv file and explore the data\n",
    "\n",
    "with open('results.csv', 'r', newline='', encoding='utf-8') as file:\n",
    "        writer = csv.writer(file)\n",
    "        writer.writerow(csv_header)\n",
    "\n"
   ]
  }
 ],
 "metadata": {
  "kernelspec": {
   "display_name": "Python 3",
   "language": "python",
   "name": "python3"
  },
  "language_info": {
   "codemirror_mode": {
    "name": "ipython",
    "version": 3
   },
   "file_extension": ".py",
   "mimetype": "text/x-python",
   "name": "python",
   "nbconvert_exporter": "python",
   "pygments_lexer": "ipython3",
   "version": "3.8.3"
  },
  "vscode": {
   "interpreter": {
    "hash": "1badd405f66718a2d02ca77635baf9e6ecb391c7714da441a27295873ef96065"
   }
  }
 },
 "nbformat": 4,
 "nbformat_minor": 4
}
